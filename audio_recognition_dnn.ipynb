{
 "cells": [
  {
   "cell_type": "code",
   "execution_count": 1,
   "metadata": {},
   "outputs": [],
   "source": [
    "import os\n",
    "from pathlib import Path\n",
    "import IPython.display as ipd\n",
    "\n",
    "import numpy as np \n",
    "import matplotlib.pyplot as plt\n",
    "from scipy import signal\n",
    "from scipy.io import wavfile\n",
    "%matplotlib inline\n",
    "import re\n",
    "import glob\n",
    "from sklearn.preprocessing import LabelEncoder\n",
    "from sklearn.preprocessing import OneHotEncoder\n"
   ]
  },
  {
   "cell_type": "code",
   "execution_count": 2,
   "metadata": {},
   "outputs": [],
   "source": [
    "# read each wav file convert into a spectogram and flatten it as x\n",
    "# read and the corresponding label and convert into one hot encoding as Y\n",
    "# Baseline : Start with DNN classifier with  two hidden layesr and drop out as regularization at each step\n",
    "# output layer  10 neurons for classification at output.\n",
    "# Once the wave forms are converted, its akin to image comparison \n",
    "# MLP Model can be like a baseline.\n",
    "# we will have to compare against performance using  CNNs , and also AUTOENCODERS.\n",
    "\n",
    "#TODO - Use confusion matrix and validate how confused are the classification.\n",
    "#TODO - remove any outliers in data input. \n",
    "\n",
    "AUDIO_PATH = 'Documents/data_speech_commands_v0.02/'\n",
    "LABELS = ['eight', 'five', 'four', 'one',  'seven', 'six', 'three', 'two', 'zero', 'nine']\n"
   ]
  },
  {
   "cell_type": "code",
   "execution_count": 3,
   "metadata": {},
   "outputs": [],
   "source": [
    "#Original sound wav - we cant use as its highly random wav and difficult to identify pattern\n",
    "#Many options - convert to spectogram / or more advanced : Mel-frequency cepstral coefficients (MFCCs) \n",
    "#current implementation is for spectogram .\n",
    "\n",
    "#convert into spectograms : look at how the actual wav form it is \n",
    "\n",
    "sample_rate1, samples1 = wavfile.read(str(AUDIO_PATH) + '/zero/0a2b400e_nohash_0.wav')\n",
    "sample_rate2, samples2 = wavfile.read(str(AUDIO_PATH) + '/one/0a2b400e_nohash_0.wav')\n",
    "sample_rate3, samples3 = wavfile.read(str(AUDIO_PATH) + '/two/0a2b400e_nohash_0.wav')\n",
    "frequencies1, times1, spectogram1 = signal.spectrogram(samples1, sample_rate1)\n",
    "frequencies2, times2, spectogram2 = signal.spectrogram(samples2, sample_rate2)\n",
    "frequencies3, times3, spectogram3 = signal.spectrogram(samples3, sample_rate3)\n",
    "\n"
   ]
  },
  {
   "cell_type": "code",
   "execution_count": 6,
   "metadata": {},
   "outputs": [
    {
     "data": {
      "text/plain": [
       "<matplotlib.image.AxesImage at 0x1c2457eda0>"
      ]
     },
     "execution_count": 6,
     "metadata": {},
     "output_type": "execute_result"
    },
    {
     "data": {
      "image/png": "[encoded data removed]",
      "text/plain": [
       "<Figure size 1440x1440 with 3 Axes>"
      ]
     },
     "metadata": {},
     "output_type": "display_data"
    }
   ],
   "source": [
    "fig = plt.figure(figsize = (20,20))\n",
    "ax1 = fig.add_subplot(311)\n",
    "ax1.set_xticks([])\n",
    "ax1.set_yticks([])\n",
    "ax1.set_title('Spectogram - zero')\n",
    "ax1.imshow(spectogram1)\n",
    "\n",
    "ax2 = fig.add_subplot(312)\n",
    "ax2.set_xticks([])\n",
    "ax2.set_yticks([])\n",
    "ax2.set_title('Spectogram - one')\n",
    "ax2.imshow(spectogram2)\n",
    "\n",
    "ax2 = fig.add_subplot(313)\n",
    "ax2.set_xticks([])\n",
    "ax2.set_yticks([])\n",
    "ax2.set_title('Spectogram - two')\n",
    "ax2.imshow(spectogram3)\n",
    "\n",
    "#OBSERVATION : \n",
    "#Can see that half the time series is with silence and the clippings could be clipped for dimension reduction\n",
    "#"
   ]
  },
  {
   "cell_type": "code",
   "execution_count": 7,
   "metadata": {},
   "outputs": [],
   "source": [
    "# reading files with only (0 -9) for simplicity, \n",
    "# lets neglect other wav files .\n",
    "# TODO  add more classification such as silence, unknown for other input waves.\n",
    "# DATASET USED \n",
    "# https://www.kaggle.com/c/tensorflow-speech-recognition-challenge/data\n",
    "#data set downloaded locally  under relative path /Documents/data_speech_commands_vo.02\n",
    "\n",
    "\n",
    "# for each label , read the training and validation files and corresponding target label \n",
    "def create_list_of_validation_files():\n",
    "\n",
    "    fp = open(AUDIO_PATH + \"validation_list.txt\", 'r')\n",
    "    line = fp.readline()\n",
    "    cnt = 1\n",
    "    validation_file_list =[]\n",
    "    while line:\n",
    "       validation_file_list.append(line.strip())\n",
    "       line = fp.readline()\n",
    "    return validation_file_list\n",
    "\n",
    "\n",
    "#CREATE INPUT TRAIN AND VALIDATION DATA SET\n",
    "#TODO - DIMENSION REDUCTION BY CLIPPING SILENCE( can see more shorter clips)\n",
    "#TODO - DIMENSION REDUCTION BY Resampling \n",
    "#TODO - DATA AUGMENTATION BY ADDING NOISE AND CREATE NEW SOUND CLIPS \n",
    "\n",
    "def create_input(validation_file_list):\n",
    "\n",
    "    filecount = 0\n",
    "    wavefiles = []\n",
    "    #using lists instead of numpy array for faster reading while loop \n",
    "    X_train = []\n",
    "    X_validation = []\n",
    "    y_train= []\n",
    "    y_validation = []\n",
    "    for  label in LABELS:\n",
    "        #read each file under train_label and convert it into histogram assign to first ,\n",
    "        #assign label \n",
    "        wavefile = glob.glob(AUDIO_PATH  + label + \"/*.wav\")\n",
    "        for wav in wavefile:\n",
    "            sample_rate, samples = wavfile.read(wav)\n",
    "            frequencies, times, spectogram = signal.spectrogram(samples, sample_rate)\n",
    "            filename = re.split(AUDIO_PATH , wav)\n",
    "            if(len(times)==71): \n",
    "                #currently reading only similar length file\n",
    "                #TODO IMPROVE BY PADDING IF FILE LENGTH IS LESS OR CLIP IF MORE \n",
    "                try:\n",
    "                    if(filename[1] in validation_file_list): \n",
    "                        X_validation.append(np.array(spectogram))\n",
    "                        y_validation.append(label)\n",
    "                    else:\n",
    "                        X_train.append(np.array(spectogram))\n",
    "                        y_train.append(label)\n",
    "                except:\n",
    "                     pass \n",
    "    return X_train, y_train,X_validation, y_validation\n",
    "\n",
    "\n",
    "\n"
   ]
  },
  {
   "cell_type": "code",
   "execution_count": 8,
   "metadata": {},
   "outputs": [],
   "source": [
    "validation_list = create_list_of_validation_files()\n",
    "# get all the files that needs to be in validation test data set, so we can correctly split the wav forms"
   ]
  },
  {
   "cell_type": "code",
   "execution_count": 9,
   "metadata": {},
   "outputs": [
    {
     "name": "stdout",
     "output_type": "stream",
     "text": [
      "32293 32293 3338 3338\n"
     ]
    }
   ],
   "source": [
    "X_train,y_train,X_validation, y_validation = create_input(validation_list)\n",
    "print(len(X_train), len(y_train), len(X_validation), len(y_validation))"
   ]
  },
  {
   "cell_type": "code",
   "execution_count": 10,
   "metadata": {},
   "outputs": [
    {
     "name": "stderr",
     "output_type": "stream",
     "text": [
      "/anaconda3/lib/python3.6/site-packages/sklearn/preprocessing/label.py:252: DataConversionWarning: A column-vector y was passed when a 1d array was expected. Please change the shape of y to (n_samples, ), for example using ravel().\n",
      "  y = column_or_1d(y, warn=True)\n",
      "/anaconda3/lib/python3.6/site-packages/sklearn/preprocessing/_encoders.py:363: FutureWarning: The handling of integer data will change in version 0.22. Currently, the categories are determined based on the range [0, max(values)], while in the future they will be determined based on the unique values.\n",
      "If you want the future behaviour and silence this warning, you can specify \"categories='auto'\".\n",
      "In case you used a LabelEncoder before this OneHotEncoder to convert the categories to integers, then you can now use the OneHotEncoder directly.\n",
      "  warnings.warn(msg, FutureWarning)\n"
     ]
    }
   ],
   "source": [
    "X_Train = np.asarray(X_train)\n",
    "y_Train = np.asarray(y_train)\n",
    "X_Validation = np.asarray(X_validation)\n",
    "y_Validation = np.asarray(y_validation)\n",
    "\n",
    "\n",
    "# FIRST LABEL ENCODE AND ONE HOT ENCODE FOR CATEGORICAL OUTPUT TO FEED TO NEURAL NW\n",
    "\n",
    "label_encoder = LabelEncoder()\n",
    "label_encoder.fit(y_Train)\n",
    "y_Train = label_encoder.transform(y_Train.reshape(-1,1))\n",
    "y_Validation = label_encoder.transform(y_Validation.reshape(-1,1))\n",
    "onehot_encoder = OneHotEncoder(sparse=False)\n",
    "y_Train = onehot_encoder.fit_transform(y_Train.reshape(-1,1))\n",
    "y_Validation = onehot_encoder.transform(y_Validation.reshape(-1,1))"
   ]
  },
  {
   "cell_type": "code",
   "execution_count": 11,
   "metadata": {},
   "outputs": [],
   "source": [
    "#FLATTEN INPUT ARRAYS\n",
    "X_Train = X_Train.reshape(32293, 129*71)\n",
    "X_Validation = X_Validation.reshape(3338, 129*71)\n",
    " INPUT_SHAPE = 129*71"
   ]
  },
  {
   "cell_type": "code",
   "execution_count": 12,
   "metadata": {},
   "outputs": [
    {
     "name": "stdout",
     "output_type": "stream",
     "text": [
      "-23.02585 16.335938\n",
      "0.0 1.0000001\n"
     ]
    }
   ],
   "source": [
    "#normalize inputs, we take log of values to have much reasonable scale between frequencies\n",
    "# check for other custom built libraries which could do logarithmic transform to give more weightage to frequency range of interest\n",
    "\n",
    "X_Train = np.log(X_Train+ 1e-10) # add small error to avoid  infinity. \n",
    "print(np.min(X_Train), np.max(X_Train))\n",
    "from sklearn.preprocessing import MinMaxScaler\n",
    "X_Train = MinMaxScaler().fit_transform(X_Train)\n",
    "print(np.min(X_Train), np.max(X_Train))\n"
   ]
  },
  {
   "cell_type": "code",
   "execution_count": null,
   "metadata": {},
   "outputs": [
    {
     "name": "stderr",
     "output_type": "stream",
     "text": [
      "Using TensorFlow backend.\n"
     ]
    },
    {
     "name": "stdout",
     "output_type": "stream",
     "text": [
      "_________________________________________________________________\n",
      "Layer (type)                 Output Shape              Param #   \n",
      "=================================================================\n",
      "dense_1 (Dense)              (None, 512)               4689920   \n",
      "_________________________________________________________________\n",
      "dropout_1 (Dropout)          (None, 512)               0         \n",
      "_________________________________________________________________\n",
      "dense_2 (Dense)              (None, 128)               65664     \n",
      "_________________________________________________________________\n",
      "dropout_2 (Dropout)          (None, 128)               0         \n",
      "_________________________________________________________________\n",
      "dense_3 (Dense)              (None, 10)                1290      \n",
      "=================================================================\n",
      "Total params: 4,756,874\n",
      "Trainable params: 4,756,874\n",
      "Non-trainable params: 0\n",
      "_________________________________________________________________\n",
      "Train on 32293 samples, validate on 3338 samples\n",
      "Epoch 1/20\n",
      "32293/32293 [==============================] - 172s 5ms/step - loss: 2.3139 - acc: 0.1030 - val_loss: 6.7595 - val_acc: 0.1111\n",
      "Epoch 2/20\n",
      "32293/32293 [==============================] - 190s 6ms/step - loss: 2.3034 - acc: 0.1036 - val_loss: 3.9552 - val_acc: 0.1058\n",
      "Epoch 3/20\n",
      "32293/32293 [==============================] - 194s 6ms/step - loss: 2.3030 - acc: 0.1041 - val_loss: 3.2452 - val_acc: 0.1090\n",
      "Epoch 4/20\n",
      "32293/32293 [==============================] - 193s 6ms/step - loss: 2.3026 - acc: 0.1038 - val_loss: 2.6563 - val_acc: 0.1072\n",
      "Epoch 5/20\n",
      "32293/32293 [==============================] - 205s 6ms/step - loss: 2.3028 - acc: 0.1053 - val_loss: 2.5140 - val_acc: 0.1007\n",
      "Epoch 6/20\n",
      "32293/32293 [==============================] - 204s 6ms/step - loss: 2.3036 - acc: 0.1009 - val_loss: 2.3190 - val_acc: 0.1055\n",
      "Epoch 7/20\n",
      " 2112/32293 [>.............................] - ETA: 3:25 - loss: 2.3035 - acc: 0.1089"
     ]
    }
   ],
   "source": [
    "import keras\n",
    "from keras.models import Sequential\n",
    "from keras.layers import Dense, Dropout\n",
    "from keras.optimizers import RMSprop\n",
    "\n",
    "EPOCHS = 20 # ideally need to run for longer epoch \n",
    "BATCHSIZE = 16\n",
    "\n",
    "model = Sequential()\n",
    "model.add(Dense(512,  kernel_initializer='TruncatedNormal',activation='relu', input_shape=(INPUT_SHAPE,)))\n",
    "model.add(Dropout(0.2))\n",
    "model.add(Dense(128,  kernel_initializer='TruncatedNormal',activation='relu'))\n",
    "model.add(Dropout(0.2))\n",
    "model.add(Dense(10, kernel_initializer='TruncatedNormal', activation='softmax')) \n",
    "#SINCE WE WANT OUTPUT TO BE PROBABILITY OF PREDICTION TO PARTICULAR CLASS, use softmax activation at output\n",
    "model.summary()\n",
    "\n",
    "model.compile(loss='categorical_crossentropy', # ITS CLASSIFICATION PROBLEM \n",
    "              optimizer='adam', # CAN VARY OPTIMIZER for baseline , adam is selected.  \n",
    "              metrics=['accuracy']) # TODO check for confidence ( probablity of top three prediction class difference etc) \n",
    "\n",
    "history = model.fit(X_Train, y_Train,\n",
    "                    batch_size=BATCHSIZE,\n",
    "                    epochs=EPOCHS,\n",
    "                    verbose=1,\n",
    "                    shuffle=True,\n",
    "                    validation_data=(X_Validation, y_Validation)) "
   ]
  },
  {
   "cell_type": "code",
   "execution_count": null,
   "metadata": {},
   "outputs": [],
   "source": [
    "plt.plot(history.history['acc'], label='Train Accuracy')\n",
    "plt.plot(history.history['val_acc'], label='Validation Accuracy')\n",
    "plt.xlabel('Epochs')\n",
    "plt.ylabel('Accuracy')\n",
    "plt.legend()"
   ]
  },
  {
   "cell_type": "code",
   "execution_count": null,
   "metadata": {},
   "outputs": [],
   "source": []
  }
 ],
 "metadata": {
  "kernelspec": {
   "display_name": "Python 3",
   "language": "python",
   "name": "python3"
  },
  "language_info": {
   "codemirror_mode": {
    "name": "ipython",
    "version": 3
   },
   "file_extension": ".py",
   "mimetype": "text/x-python",
   "name": "python",
   "nbconvert_exporter": "python",
   "pygments_lexer": "ipython3",
   "version": "3.6.6"
  }
 },
 "nbformat": 4,
 "nbformat_minor": 2
}
